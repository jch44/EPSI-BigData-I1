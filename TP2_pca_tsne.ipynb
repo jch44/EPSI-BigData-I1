{
 "cells": [
  {
   "cell_type": "markdown",
   "metadata": {},
   "source": [
    "# TP Reduction des dimensions : PCA et Clustering\n",
    "Récupérer les données sur https://www.kaggle.com/sylvemel/data-visualisation-with-pca-and-clustering/data"
   ]
  },
  {
   "cell_type": "code",
   "execution_count": null,
   "metadata": {},
   "outputs": [],
   "source": [
    "import numpy as np\n",
    "import pandas as pd\n",
    "# Affichage complet des dataframes\n",
    "pd.set_option('display.max_columns',100)\n",
    "pd.set_option('display.max_rows',1000)\n",
    "\n",
    "import itertools\n",
    "import io\n",
    "\n",
    "# Librairie graphique plotly\n",
    "from plotly.offline import init_notebook_mode, plot,iplot\n",
    "import plotly.graph_objs as go\n",
    "init_notebook_mode(connected=True)\n",
    "\n",
    "import plotly.tools as tls\n",
    "import plotly.figure_factory as ff"
   ]
  },
  {
   "cell_type": "markdown",
   "metadata": {},
   "source": [
    "## Data Preparation"
   ]
  },
  {
   "cell_type": "code",
   "execution_count": null,
   "metadata": {},
   "outputs": [],
   "source": [
    "df=pd.read_csv(\"data/fifa22.csv\")\n",
    "df.head(3)"
   ]
  },
  {
   "cell_type": "code",
   "execution_count": null,
   "metadata": {},
   "outputs": [],
   "source": [
    "attaquants=['CF', 'ST', 'LW', 'LF', 'RF','RW','RS','LS']\n",
    "milieux=['LM','CAM','CDM','CM','RM','RCM','RDM','LCM','LDM','RAM']\n",
    "defenseurs=['LWB','LB','CB','RB','RWB','LCB','RCB']\n",
    "gardiens=['GK']\n",
    "\n",
    "def pos2(player_positions):\n",
    "    if player_positions in attaquants:\n",
    "        return 'Attaquant'    \n",
    "    elif player_positions in milieux:\n",
    "        return 'Milieu'    \n",
    "    elif player_positions in defenseurs:\n",
    "        return 'Defenseur'    \n",
    "    elif player_positions in gardiens:\n",
    "        return 'Gardien'    \n",
    "    else:\n",
    "        return 'Remplaçant'\n",
    "df[\"Position2\"]=df[\"club_position\"].apply(lambda x: pos2(x))\n",
    "df[\"Position2\"].value_counts()"
   ]
  },
  {
   "cell_type": "code",
   "execution_count": null,
   "metadata": {},
   "outputs": [],
   "source": [
    "best_players_per_position=df.iloc[df.groupby(df['Position2'])['overall'].idxmax()][['Position2','short_name','overall']]\n",
    "best_players_per_position"
   ]
  },
  {
   "cell_type": "markdown",
   "metadata": {},
   "source": [
    "## T-SNE"
   ]
  },
  {
   "cell_type": "code",
   "execution_count": null,
   "metadata": {},
   "outputs": [],
   "source": [
    "n_sne=2000 # Limitation au 2000 premiers joueurs\n",
    "df_sne = df.loc[:n_sne]\n",
    "# competences_ratings = ['Crossing', 'Finishing', 'HeadingAccuracy', 'ShortPassing',\n",
    "#                   'Volleys', 'Dribbling', 'Curve', 'FKAccuracy', 'LongPassing',\n",
    "#                   'BallControl', 'Acceleration', 'SprintSpeed', 'Agility', 'Reactions',\n",
    "#                   'Balance', 'ShotPower', 'Jumping', 'Stamina', 'Strength', 'LongShots',\n",
    "#                   'Aggression', 'Interceptions', 'Positioning', 'Vision', 'Penalties', \n",
    "#                   'Composure', 'Marking', 'StandingTackle', 'SlidingTackle',\n",
    "#                   'GKDiving', 'GKHandling', 'GKKicking', 'GKPositioning', 'GKReflexes']\n",
    "\n",
    "competences_ratings = ['pace','shooting','passing','dribbling','defending','physic','attacking_crossing','attacking_finishing',\n",
    "'attacking_heading_accuracy','attacking_short_passing','attacking_volleys','skill_dribbling','skill_curve',\n",
    "'skill_fk_accuracy','skill_long_passing','skill_ball_control','movement_acceleration','movement_sprint_speed',\n",
    "'movement_agility','movement_reactions','movement_balance','power_shot_power','power_jumping','power_stamina',\n",
    "'power_strength','power_long_shots','mentality_aggression','mentality_interceptions','mentality_positioning',\n",
    "'mentality_vision','mentality_penalties','mentality_composure','defending_marking_awareness','defending_standing_tackle',\n",
    "'defending_sliding_tackle','goalkeeping_diving','goalkeeping_handling','goalkeeping_kicking','goalkeeping_positioning',\n",
    "'goalkeeping_reflexes','goalkeeping_speed']\n",
    "# 1.1 Construire Un dataframe des compétences \n",
    "X=df_sne[competences_ratings].fillna(0)\n",
    "X.sample(10)"
   ]
  },
  {
   "cell_type": "code",
   "execution_count": null,
   "metadata": {},
   "outputs": [],
   "source": [
    "# 1.2 remplacer les valeurs NaN par 0 puis Exécuter une transformation T_SNE sur les données \n"
   ]
  },
  {
   "cell_type": "code",
   "execution_count": null,
   "metadata": {},
   "outputs": [],
   "source": [
    "#1.3 Créer des filtres booléens par type de poste, puis sur les meilleurs joueurs (Overall au dessus de 90)\n"
   ]
  },
  {
   "cell_type": "code",
   "execution_count": null,
   "metadata": {},
   "outputs": [],
   "source": [
    "palette = ['navy','red','maroon','orange','green','pink']\n",
    "\n",
    "#1.4 Creer 4 nuages de points correspondant aux attaquants, milieux, défenseurs et gradient.\n",
    "\n",
    "#1.5 Ajouter les noms des meilleurs joueurs\n"
   ]
  },
  {
   "cell_type": "markdown",
   "metadata": {},
   "source": [
    "## ACP + Clustering"
   ]
  },
  {
   "cell_type": "code",
   "execution_count": null,
   "metadata": {},
   "outputs": [],
   "source": [
    "n_kmean=18000\n",
    "\n",
    "# Suppression des gardiens de but\n",
    "\n",
    "df_kmean=df.loc[:n_kmean]\n",
    "df_kmean=df_kmean[(df_kmean[\"Position\"]!='GK')&(df_kmean['overall']>69)]\n",
    "\n",
    "competences_ratings = ['pace','shooting','passing','dribbling','defending','physic','attacking_crossing','attacking_finishing',\n",
    "'attacking_heading_accuracy','attacking_short_passing','attacking_volleys','skill_dribbling','skill_curve',\n",
    "'skill_fk_accuracy','skill_long_passing','skill_ball_control','movement_acceleration','movement_sprint_speed',\n",
    "'movement_agility','movement_reactions','movement_balance','power_shot_power','power_jumping','power_stamina',\n",
    "'power_strength','power_long_shots','mentality_aggression','mentality_interceptions','mentality_positioning',\n",
    "'mentality_vision','mentality_penalties','mentality_composure','defending_marking_awareness','defending_standing_tackle',\n",
    "'defending_sliding_tackle','goalkeeping_diving','goalkeeping_handling','goalkeeping_kicking','goalkeeping_positioning',\n",
    "'goalkeeping_reflexes','goalkeeping_speed']\n",
    "# Création d'un joueur parfait pour savoir où il se situe\n",
    "\n",
    "JoueurParfaitDict={'Name':'MrParfait','Overall':99}\n",
    "for competence in competences_ratings:\n",
    "    JoueurParfaitDict[competence]=99\n",
    "    \n",
    "df_kmean=df_kmean.append(JoueurParfaitDict,ignore_index=True)\n",
    "\n",
    "df_competences=df_kmean[competences_ratings].fillna(0)\n",
    "X=df_competences\n",
    "X"
   ]
  },
  {
   "cell_type": "code",
   "execution_count": null,
   "metadata": {},
   "outputs": [],
   "source": [
    "#2.1 Créer une division en 5 clusters des joueurs\n"
   ]
  },
  {
   "cell_type": "code",
   "execution_count": null,
   "metadata": {},
   "outputs": [],
   "source": [
    "#2.2 Appliquer une PCA à 2 dimensions sur les joueurs"
   ]
  },
  {
   "cell_type": "code",
   "execution_count": null,
   "metadata": {},
   "outputs": [],
   "source": [
    "#2.3 Afficher les clusters en couleurs sur la représentation PCA en 2D des joueurs. \n",
    "# Ajouter un label pour les meilleurs joueurs (Overall au dessus de 90)\n",
    "\n",
    "filtre_meilleurs = df_kmean[\"overall\"]>90\n",
    "kmeans_clusters=go.Scatter(x=X_projected[:,0],y=X_projected[:,1],mode='markers',\n",
    "                           marker=dict(\n",
    "                                size=5,\n",
    "                                color=clusters.astype(np.float),\n",
    "                                colorscale='Portland',\n",
    "                                showscale=False\n",
    "                           )\n",
    "                        )\n",
    "acp_meilleurs=go.Scatter(x=X_projected[filtre_meilleurs,0], y=X_projected[filtre_meilleurs,1],name='Meilleurs joueurs',\n",
    "                      text=df_kmean.loc[filtre_meilleurs,'Name'],textfont=dict(family='sans serif',color='black',size=16),\n",
    "                      opacity=0.9,mode='text'\n",
    "                            )\n",
    "data=[kmeans_clusters,acp_meilleurs]\n",
    "\n",
    "layout = go.Layout(title=\"ACP + Clustering \",titlefont=dict(size=40),\n",
    "                   xaxis=dict(title='F1'),\n",
    "                   yaxis=dict(title='F2'),\n",
    "                   autosize=False, width=1000,height=1000)\n",
    "\n",
    "fig = go.Figure(data=data, layout=layout)\n",
    "\n",
    "iplot(fig)"
   ]
  },
  {
   "cell_type": "markdown",
   "metadata": {},
   "source": [
    "## 3. Qui va gagner la Ligue des champions ?"
   ]
  },
  {
   "cell_type": "code",
   "execution_count": null,
   "metadata": {},
   "outputs": [],
   "source": []
  }
 ],
 "metadata": {
  "kernelspec": {
   "display_name": "Python 3.9.6 64-bit",
   "language": "python",
   "name": "python3"
  },
  "language_info": {
   "codemirror_mode": {
    "name": "ipython",
    "version": 3
   },
   "file_extension": ".py",
   "mimetype": "text/x-python",
   "name": "python",
   "nbconvert_exporter": "python",
   "pygments_lexer": "ipython3",
   "version": "3.9.6"
  },
  "vscode": {
   "interpreter": {
    "hash": "f7976576504ac6c456dadd405d7477574ca2a64265ee4724cfbc25daae5f6d94"
   }
  }
 },
 "nbformat": 4,
 "nbformat_minor": 2
}
